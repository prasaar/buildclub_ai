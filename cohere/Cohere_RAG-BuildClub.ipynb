{
 "cells": [
  {
   "cell_type": "markdown",
   "id": "20ff59ae",
   "metadata": {},
   "source": [
    "Author: Arun Prasad\n",
    "\n",
    "Built on Sunday 3 November at Build Club (Sydney, Australia)\n",
    "\n",
    "License: MIT License\n",
    "Copyright 2004 AI WHISPR PTY. LTD.\n",
    "\n",
    "Permission is hereby granted, free of charge, to any person obtaining a copy of this software and associated documentation files (the “Software”), to deal in the Software without restriction, including without limitation the rights to use, copy, modify, merge, publish, distribute, sublicense, and/or sell copies of the Software, and to permit persons to whom the Software is furnished to do so, subject to the following conditions:\n",
    "\n",
    "The above copyright notice and this permission notice shall be included in all copies or substantial portions of the Software.\n",
    "\n",
    "THE SOFTWARE IS PROVIDED “AS IS”, WITHOUT WARRANTY OF ANY KIND, EXPRESS OR IMPLIED, INCLUDING BUT NOT LIMITED TO THE WARRANTIES OF MERCHANTABILITY, FITNESS FOR A PARTICULAR PURPOSE AND NONINFRINGEMENT. IN NO EVENT SHALL THE AUTHORS OR COPYRIGHT HOLDERS BE LIABLE FOR ANY CLAIM, DAMAGES OR OTHER LIABILITY, WHETHER IN AN ACTION OF CONTRACT, TORT OR OTHERWISE, ARISING FROM, OUT OF OR IN CONNECTION WITH THE SOFTWARE OR THE USE OR OTHER DEALINGS IN THE SOFTWARE."
   ]
  },
  {
   "cell_type": "code",
   "execution_count": 1,
   "id": "cd0c5c41",
   "metadata": {
    "scrolled": true
   },
   "outputs": [],
   "source": [
    "%pip install \"cohere<5\" --quiet"
   ]
  },
  {
   "cell_type": "markdown",
   "id": "07a0e0eb",
   "metadata": {},
   "source": [
    "# Import the Cohere python library. Setup API Key."
   ]
  },
  {
   "cell_type": "code",
   "execution_count": 2,
   "id": "f4956add",
   "metadata": {},
   "outputs": [],
   "source": [
    "import cohere"
   ]
  },
  {
   "cell_type": "code",
   "execution_count": 3,
   "id": "7ce418ec",
   "metadata": {},
   "outputs": [],
   "source": [
    "API_KEY = \"<COHERE_API_KEY>\"\n",
    "co = cohere.Client(API_KEY)"
   ]
  },
  {
   "cell_type": "markdown",
   "id": "4a60c3c7",
   "metadata": {},
   "source": [
    "# Install the Wikpedia Library, Import the library, Read the Wikpedia Page"
   ]
  },
  {
   "cell_type": "code",
   "execution_count": 4,
   "id": "2d5e758e",
   "metadata": {},
   "outputs": [],
   "source": [
    "!pip install wikipedia --quiet"
   ]
  },
  {
   "cell_type": "code",
   "execution_count": 5,
   "id": "2f02ef06",
   "metadata": {},
   "outputs": [],
   "source": [
    "import wikipedia"
   ]
  },
  {
   "cell_type": "code",
   "execution_count": 6,
   "id": "88ca2eaa",
   "metadata": {
    "scrolled": true
   },
   "outputs": [],
   "source": [
    "article = wikipedia.page('Wild Robot')\n",
    "text = article.content\n",
    "print(f\"The text has roughly {len(text.split())} words.\")"
   ]
  },
  {
   "cell_type": "markdown",
   "id": "f2a2c9d4",
   "metadata": {},
   "source": [
    "# Create Text Chunks."
   ]
  },
  {
   "cell_type": "code",
   "execution_count": 7,
   "id": "e8087d44",
   "metadata": {},
   "outputs": [],
   "source": [
    "%pip install -qU langchain-text-splitters --quiet"
   ]
  },
  {
   "cell_type": "code",
   "execution_count": 8,
   "id": "ecffa584",
   "metadata": {},
   "outputs": [],
   "source": [
    "from langchain_text_splitters import RecursiveCharacterTextSplitter"
   ]
  },
  {
   "cell_type": "code",
   "execution_count": 9,
   "id": "3e759627",
   "metadata": {},
   "outputs": [],
   "source": [
    "text_splitter = RecursiveCharacterTextSplitter(\n",
    "    chunk_size=512,\n",
    "    chunk_overlap=50,\n",
    "    length_function=len,\n",
    "    is_separator_regex=False,\n",
    ")\n",
    "\n",
    "chunks_ = text_splitter.create_documents([text])\n",
    "chunks = [c.page_content for c in chunks_]\n",
    "print(f\"The text has been broken down in {len(chunks)} chunks.\")"
   ]
  },
  {
   "cell_type": "markdown",
   "id": "d4dcb508",
   "metadata": {},
   "source": [
    "# Create Embeddings for the text chunks"
   ]
  },
  {
   "cell_type": "code",
   "execution_count": 10,
   "id": "f198b515",
   "metadata": {},
   "outputs": [],
   "source": [
    "model=\"embed-english-v3.0\"\n",
    "response = co.embed(\n",
    "    texts= chunks,\n",
    "    model=model,\n",
    "    input_type=\"search_document\",\n",
    "    embedding_types=['float']\n",
    ")\n",
    "embeddings = response.embeddings.float\n",
    "print(f\"We just computed {len(embeddings)} embeddings.\")\n"
   ]
  },
  {
   "cell_type": "markdown",
   "id": "20426f2b",
   "metadata": {},
   "source": [
    "# Install numpy; use it to store embeddings."
   ]
  },
  {
   "cell_type": "code",
   "execution_count": 11,
   "id": "623999f9",
   "metadata": {},
   "outputs": [],
   "source": [
    "!pip install numpy --quiet"
   ]
  },
  {
   "cell_type": "code",
   "execution_count": 12,
   "id": "072ea3de",
   "metadata": {},
   "outputs": [],
   "source": [
    "import numpy as np\n",
    "vector_database = {i: np.array(embedding) for i, embedding in enumerate(embeddings)}"
   ]
  },
  {
   "cell_type": "markdown",
   "id": "bf84ca1a",
   "metadata": {},
   "source": [
    "# Create embeeding for the query; semantic search using cosine similarity to retrieve relevant text."
   ]
  },
  {
   "cell_type": "code",
   "execution_count": 14,
   "id": "770c2cb9",
   "metadata": {},
   "outputs": [],
   "source": [
    "query = \"Who is the director of the movie The Wild Robot? List out the names of all actors in the movie and their role in the movie?\""
   ]
  },
  {
   "cell_type": "code",
   "execution_count": 15,
   "id": "ddc4d39e",
   "metadata": {},
   "outputs": [],
   "source": [
    "response = co.embed(\n",
    "    texts=[query],\n",
    "    model=model,\n",
    "    input_type=\"search_query\",\n",
    "    embedding_types=['float']\n",
    ")\n",
    "query_embedding = response.embeddings.float[0]\n",
    "print(\"query_embedding: \", query_embedding)"
   ]
  },
  {
   "cell_type": "code",
   "execution_count": 16,
   "id": "584e539e",
   "metadata": {},
   "outputs": [],
   "source": [
    "def cosine_similarity(a, b):\n",
    "    return np.dot(a, b) / (np.linalg.norm(a) * np.linalg.norm(b))\n",
    "\n",
    "similarities = [cosine_similarity(query_embedding, chunk) for chunk in embeddings]\n",
    "print(\"similarity scores: \", similarities)\n",
    "\n",
    "sorted_indices = np.argsort(similarities)[::-1]\n",
    "\n",
    "top_indices = sorted_indices[:10]\n",
    "print(\"Here are the indices of the top 10 chunks after retrieval: \", top_indices)\n",
    "\n",
    "top_chunks_after_retrieval = [chunks[i] for i in top_indices]\n",
    "print(\"Here are the top 10 chunks after retrieval: \")\n",
    "for t in top_chunks_after_retrieval:\n",
    "    print(\"== \" + t)"
   ]
  },
  {
   "cell_type": "markdown",
   "id": "c4ddee4c",
   "metadata": {},
   "source": [
    "# Create Augmented Prompt for LLM using Query +  top 3 ranked search results"
   ]
  },
  {
   "cell_type": "code",
   "execution_count": 17,
   "id": "d977c491",
   "metadata": {},
   "outputs": [],
   "source": [
    "preamble = \"\"\"\n",
    "## Task &amp; Context\n",
    "You help people answer their questions and other requests interactively. You will be asked a very wide array of requests on all kinds of topics. You will be equipped with a wide range of search engines or similar tools to help you, which you use to research your answer. You should focus on serving the user's needs as best you can, which will be wide-ranging.\n",
    "\n",
    "## Style Guide\n",
    "Unless the user asks for a different style of answer, you should answer in full sentences, using proper grammar and spelling.\n",
    "\"\"\""
   ]
  },
  {
   "cell_type": "code",
   "execution_count": 18,
   "id": "6a7401b5",
   "metadata": {},
   "outputs": [],
   "source": [
    "documents = [\n",
    "    {\"title\": \"chunk 0\", \"snippet\": top_chunks_after_retrieval[0]},\n",
    "    {\"title\": \"chunk 1\", \"snippet\": top_chunks_after_retrieval[1]},\n",
    "    {\"title\": \"chunk 2\", \"snippet\": top_chunks_after_retrieval[2]},\n",
    "  ]\n",
    "\n",
    "response = co.chat(\n",
    "  message=query,\n",
    "  documents=documents,\n",
    "  preamble=preamble,\n",
    "  model=\"command-r\",\n",
    "  temperature=0.3\n",
    ")\n",
    "\n",
    "print(\"Final answer:\")\n",
    "print(response.text)\n"
   ]
  },
  {
   "cell_type": "code",
   "execution_count": null,
   "id": "60070bae",
   "metadata": {},
   "outputs": [],
   "source": []
  }
 ],
 "metadata": {
  "kernelspec": {
   "display_name": "Python 3 (ipykernel)",
   "language": "python",
   "name": "python3"
  },
  "language_info": {
   "codemirror_mode": {
    "name": "ipython",
    "version": 3
   },
   "file_extension": ".py",
   "mimetype": "text/x-python",
   "name": "python",
   "nbconvert_exporter": "python",
   "pygments_lexer": "ipython3",
   "version": "3.11.4"
  }
 },
 "nbformat": 4,
 "nbformat_minor": 5
}
